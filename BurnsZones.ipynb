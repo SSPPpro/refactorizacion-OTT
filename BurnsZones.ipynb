{
 "cells": [
  {
   "cell_type": "code",
   "execution_count": 4,
   "id": "9281536b",
   "metadata": {},
   "outputs": [],
   "source": [
    "# Librerías\n",
    "import os\n",
    "import json\n",
    "import numpy as np\n",
    "import math\n",
    "import matplotlib.pyplot as plt\n",
    "import xarray as xr\n",
    "import folium\n",
    "import geopandas as gpd\n",
    "from datetime import datetime, timedelta\n",
    "from shapely.geometry import shape, Polygon\n",
    "from dotenv import load_dotenv\n",
    "\n",
    "# Sentinel Hub specific imports\n",
    "from sentinelhub import (\n",
    "    CRS,\n",
    "    BBox,\n",
    "    BBoxSplitter,\n",
    "    bbox_to_dimensions,\n",
    "    DataCollection,\n",
    "    MimeType,\n",
    "    SentinelHubCatalog,\n",
    "    SentinelHubDownloadClient,\n",
    "    SentinelHubRequest,\n",
    "    read_data,\n",
    "    SHConfig\n",
    ")\n",
    "\n",
    "# Rasterio for raster operations\n",
    "import rasterio as rio\n",
    "from rasterio import features\n",
    "from rasterio.merge import merge\n",
    "from rasterio.plot import show\n",
    "\n",
    "# Proj4 for coordinate transformations (if needed, though geopandas handles this well)\n",
    "from pyproj import Transformer"
   ]
  },
  {
   "cell_type": "code",
   "execution_count": 5,
   "id": "837e9f3f",
   "metadata": {},
   "outputs": [],
   "source": [
    "# Configuración de Sentinel Hub\n",
    "load_dotenv()\n",
    "config = SHConfig()\n",
    "config.sh_client_id = os.getenv(\"SH_CLIENT_ID\")\n",
    "config.sh_client_secret = os.getenv(\"SH_CLIENT_SECRET\")\n",
    "catalog = SentinelHubCatalog(config=config)"
   ]
  },
  {
   "cell_type": "code",
   "execution_count": 7,
   "id": "c68fab67",
   "metadata": {},
   "outputs": [],
   "source": [
    "# Configuración de parametros\n",
    "aoi_geojson_path = \"aoi.geojson\"  \n",
    "start_date = \"2025-01-01\"\n",
    "end_date = \"2025-01-31\"\n",
    "resolution = 30   # metros\n",
    "burn_threshold = 0.15\n",
    "output_folder = \"results\"\n",
    "os.makedirs(output_folder, exist_ok=True)"
   ]
  },
  {
   "cell_type": "code",
   "execution_count": 8,
   "id": "f89bd665",
   "metadata": {},
   "outputs": [],
   "source": [
    "#Cargar AOI\n",
    "with open(aoi_geojson_path, \"r\", encoding=\"utf-8\") as f:\n",
    "    geojson_aoi_data = json.load(f)\n",
    "\n",
    "aoi = shape(geojson_aoi_data[\"features\"][0][\"geometry\"])\n",
    "aoi_bbox = BBox(bbox=aoi.bounds, crs=CRS.WGS84)\n",
    "aoi_size = bbox_to_dimensions(aoi_bbox, resolution=resolution)"
   ]
  },
  {
   "cell_type": "code",
   "execution_count": 9,
   "id": "c49d44c5",
   "metadata": {},
   "outputs": [],
   "source": [
    "#Dividir AOI en Tiles\n",
    "def calculateGridSize(bbox_size):\n",
    "    width, height = bbox_size\n",
    "    tiles_x = math.ceil(width / 1200)\n",
    "    tiles_y = math.ceil(height / 1200)\n",
    "    return (tiles_x, tiles_y)\n",
    "\n",
    "grid_size = calculateGridSize(aoi_size)\n",
    "bbox_splitter = BBoxSplitter([aoi], CRS.WGS84, grid_size, reduce_bbox_sizes=True)"
   ]
  },
  {
   "cell_type": "code",
   "execution_count": 10,
   "id": "24acda09",
   "metadata": {},
   "outputs": [],
   "source": [
    "#Eval del indice de quemas\n",
    "def get_evalscript_burn(threshold):\n",
    "    return f\"\"\"\n",
    "    //VERSION=3\n",
    "    function setup() {{\n",
    "      return {{\n",
    "        input: [\"B08\", \"B12\"],\n",
    "        output: {{\n",
    "          bands: 1,\n",
    "          sampleType: \"FLOAT32\"\n",
    "        }}\n",
    "      }};\n",
    "    }}\n",
    "\n",
    "    function evaluatePixel(sample) {{\n",
    "      let nbr = (sample.B08 - sample.B12) / (sample.B08 + sample.B12);\n",
    "      return [nbr > {threshold} ? 1 : 0];\n",
    "    }}\n",
    "    \"\"\""
   ]
  },
  {
   "cell_type": "code",
   "execution_count": 11,
   "id": "f4773c30",
   "metadata": {},
   "outputs": [],
   "source": [
    "#Crear request por tile\n",
    "def get_request_by_subarea(bbox, evalscript, start_date, end_date):\n",
    "    size = bbox_to_dimensions(bbox, resolution=resolution)\n",
    "    return SentinelHubRequest(\n",
    "        evalscript=evalscript,\n",
    "        input_data=[\n",
    "            SentinelHubRequest.input_data(\n",
    "                data_collection=DataCollection.SENTINEL2_L2A,\n",
    "                time_interval=(start_date, end_date),\n",
    "            )\n",
    "        ],\n",
    "        responses=[SentinelHubRequest.output_response(\"default\", MimeType.TIFF)],\n",
    "        bbox=bbox,\n",
    "        size=size,\n",
    "        data_folder=output_folder,\n",
    "        config=config,\n",
    "    )\n",
    "\n",
    "evalscript_burn = get_evalscript_burn(burn_threshold)\n",
    "bbox_list = bbox_splitter.get_bbox_list()\n",
    "sh_requests_burn = [\n",
    "    get_request_by_subarea(bbox, evalscript_burn, start_date, end_date)\n",
    "    for bbox in bbox_list\n",
    "]\n"
   ]
  },
  {
   "cell_type": "code",
   "execution_count": 12,
   "id": "a09942a4",
   "metadata": {},
   "outputs": [
    {
     "name": "stdout",
     "output_type": "stream",
     "text": [
      "Descargados 1 tiles\n"
     ]
    }
   ],
   "source": [
    "#Descargar datos\n",
    "dl_requests = [request.download_list[0] for request in sh_requests_burn]\n",
    "downloaded_data = SentinelHubDownloadClient(config=config).download(dl_requests, max_threads=5)\n",
    "\n",
    "# Guardar TIFFs descargados\n",
    "tiffiles = []\n",
    "for folder, _, files in os.walk(output_folder):\n",
    "    for file in files:\n",
    "        if file.lower().endswith((\".tif\",\".tiff\")):\n",
    "            tiffiles.append(os.path.join(folder, file))\n",
    "\n",
    "print(f\"Descargados {len(tiffiles)} tiles\")"
   ]
  },
  {
   "cell_type": "code",
   "execution_count": 13,
   "id": "1cdf5f65",
   "metadata": {},
   "outputs": [
    {
     "name": "stdout",
     "output_type": "stream",
     "text": [
      "✅ GeoJSON generado: results\\burn_areas.geojson\n"
     ]
    }
   ],
   "source": [
    "#Convertir a poligonos\n",
    "polygons = []\n",
    "for tif in tiffiles:\n",
    "    with rio.open(tif) as src:\n",
    "        raster_data = src.read(1)  # primera banda\n",
    "        transform = src.transform\n",
    "        crs = src.crs\n",
    "\n",
    "        mask = raster_data == 1  # solo quemado\n",
    "        for geom, value in features.shapes(raster_data.astype(np.int16),\n",
    "                                           mask=mask,\n",
    "                                           transform=transform):\n",
    "            if value == 1:\n",
    "                polygons.append({\"geometry\": shape(geom), \"state\": \"Quemado\"})\n",
    "                \n",
    "# Convertir a GeoDataFrame\n",
    "gdf = gpd.GeoDataFrame(polygons, crs=\"EPSG:4326\")\n",
    "\n",
    "# Disolver polígonos por estado\n",
    "if not gdf.empty:\n",
    "    dissolved = gdf.dissolve(by=\"state\", as_index=False)\n",
    "    out_fp = os.path.join(output_folder, \"burn_areas.geojson\")\n",
    "    dissolved.to_file(out_fp, driver=\"GeoJSON\")\n",
    "    print(f\"✅ GeoJSON generado: {out_fp}\")\n",
    "else:\n",
    "    print(\"⚠️ No se detectaron áreas quemadas en este rango de fechas\")\n",
    "    dissolved = None"
   ]
  }
 ],
 "metadata": {
  "kernelspec": {
   "display_name": "Python 3",
   "language": "python",
   "name": "python3"
  },
  "language_info": {
   "codemirror_mode": {
    "name": "ipython",
    "version": 3
   },
   "file_extension": ".py",
   "mimetype": "text/x-python",
   "name": "python",
   "nbconvert_exporter": "python",
   "pygments_lexer": "ipython3",
   "version": "3.11.11"
  }
 },
 "nbformat": 4,
 "nbformat_minor": 5
}
