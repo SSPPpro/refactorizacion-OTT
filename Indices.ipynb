{
 "cells": [
  {
   "cell_type": "code",
   "execution_count": null,
   "id": "2ea147d7",
   "metadata": {},
   "outputs": [],
   "source": []
  },
  {
   "cell_type": "code",
   "execution_count": null,
   "id": "100a91df",
   "metadata": {},
   "outputs": [],
   "source": []
  },
  {
   "cell_type": "code",
   "execution_count": 5,
   "id": "9281536b",
   "metadata": {},
   "outputs": [],
   "source": [
    "from sentinelhub import (\n",
    "    CRS,\n",
    "    BBox,\n",
    "    BBoxSplitter,\n",
    "    bbox_to_dimensions,\n",
    "    DataCollection,\n",
    "    MimeType,\n",
    "    MosaickingOrder,\n",
    "    SentinelHubCatalog,\n",
    "    SentinelHubDownloadClient,\n",
    "    SentinelHubRequest,\n",
    "    TileSplitter,\n",
    "    read_data,\n",
    "    SHConfig\n",
    ")\n",
    "\n",
    "\n",
    "\n",
    "import os\n",
    "import numpy as np\n",
    "import math\n",
    "import matplotlib.pyplot as plt\n",
    "import xarray as xr  # It may need Dask library https://docs.dask.org/en/stable/install.html\n",
    "import folium\n",
    "import geopandas as gpd\n",
    "import matplotlib.pyplot as plt\n",
    "import xarray as xr  # It may need Dask library https://docs.dask.org/en/stable/install.html\n",
    "import re\n",
    "\n",
    "from evalScripts_download import  NDVI\n",
    "\n",
    "from mgrs import MGRS\n",
    "from folium import GeoJson\n",
    "from folium.plugins import MarkerCluster\n",
    "from datetime import datetime, timedelta\n",
    "from shapely.geometry import MultiLineString, MultiPolygon, Polygon, shape\n",
    "from matplotlib.patches import Polygon as PltPolygon\n",
    "from mpl_toolkits.basemap import Basemap \n",
    "from dotenv import load_dotenv"
   ]
  },
  {
   "cell_type": "code",
   "execution_count": 4,
   "id": "837e9f3f",
   "metadata": {},
   "outputs": [],
   "source": [
    "import numpy as np\n",
    "import rasterio as rio\n",
    "from rasterio import features\n",
    "from rasterio.merge import merge\n",
    "from rasterio.plot import show\n",
    "import matplotlib.pyplot as plt\n",
    "\n",
    "\n",
    "from shapely.geometry import shape, mapping, box\n",
    "import geopandas as gpd\n",
    "from pyproj import Transformer"
   ]
  },
  {
   "cell_type": "code",
   "execution_count": null,
   "id": "1bb183a2",
   "metadata": {},
   "outputs": [],
   "source": []
  },
  {
   "cell_type": "code",
   "execution_count": 6,
   "id": "c60c198e",
   "metadata": {},
   "outputs": [],
   "source": [
    "load_dotenv()\n",
    "# authenticate to SH using client and client secret\n",
    "config = SHConfig()\n",
    "\n",
    "config.sh_client_id = os.getenv(\"SH_CLIENT_ID\")\n",
    "config.sh_client_secret = os.getenv(\"SH_CLIENT_SECRET\")\n",
    "\n",
    "catalog = SentinelHubCatalog(config=config)"
   ]
  },
  {
   "cell_type": "code",
   "execution_count": 7,
   "id": "bca88759",
   "metadata": {},
   "outputs": [
    {
     "data": {
      "text/plain": [
       "(2030, 2378)"
      ]
     },
     "execution_count": 7,
     "metadata": {},
     "output_type": "execute_result"
    }
   ],
   "source": [
    "input_file_path = r\"geometry/aoi_3.json\"\n",
    "geojson = read_data(input_file_path)\n",
    "aoi = shape(geojson[\"features\"][0][\"geometry\"])\n",
    "\n",
    "resolution = 10  # meters\n",
    "aoi_bbox = aoi.bounds\n",
    "aoi_bbox = BBox(bbox=aoi_bbox, crs=CRS.WGS84)\n",
    "aoi_size = bbox_to_dimensions(aoi_bbox, resolution=resolution)\n",
    "aoi_size"
   ]
  },
  {
   "cell_type": "code",
   "execution_count": 8,
   "id": "ea8bea5e",
   "metadata": {},
   "outputs": [],
   "source": [
    "def calculateGridSize(bbox_size):\n",
    "    width, height = bbox_size\n",
    "\n",
    "    # Calculate the number of tiles needed for width and height\n",
    "    tiles_x = math.ceil(width / 1200)\n",
    "    tiles_y = math.ceil(height / 1200)\n",
    "\n",
    "    return (tiles_x, tiles_y)"
   ]
  },
  {
   "cell_type": "code",
   "execution_count": 9,
   "id": "ebcf4748",
   "metadata": {},
   "outputs": [
    {
     "data": {
      "text/plain": [
       "(2, 2)"
      ]
     },
     "execution_count": 9,
     "metadata": {},
     "output_type": "execute_result"
    }
   ],
   "source": [
    "gridsize = calculateGridSize(aoi_size)\n",
    "bbox_splitter = BBoxSplitter([aoi], CRS.WGS84, gridsize, reduce_bbox_sizes=True)\n",
    "gridsize"
   ]
  },
  {
   "cell_type": "code",
   "execution_count": 10,
   "id": "605d78c0",
   "metadata": {},
   "outputs": [],
   "source": [
    "output_folder = r\"results\"\n",
    "if not os.path.exists(f\"{output_folder}\"):\n",
    "    os.makedirs(f\"{output_folder}\")"
   ]
  },
  {
   "cell_type": "code",
   "execution_count": 11,
   "id": "6f7ae7fa",
   "metadata": {},
   "outputs": [],
   "source": [
    "start_date = \"2024-08-01\"\n",
    "end_date = \"2024-08-15\" "
   ]
  },
  {
   "cell_type": "code",
   "execution_count": 12,
   "id": "6000f59b",
   "metadata": {},
   "outputs": [],
   "source": [
    "def get_request_by_subarea(bbox, evalscript, start_date, end_date):\n",
    "    size = bbox_to_dimensions(bbox, resolution=resolution)\n",
    "    return SentinelHubRequest(\n",
    "        evalscript=evalscript,\n",
    "        input_data=[\n",
    "            SentinelHubRequest.input_data(\n",
    "                data_collection=DataCollection.SENTINEL2_L2A,\n",
    "                time_interval=(start_date, end_date),\n",
    "            )\n",
    "        ],\n",
    "        responses=[SentinelHubRequest.output_response(\"default\", MimeType.TIFF)],\n",
    "        bbox=bbox,\n",
    "        size=size,\n",
    "        data_folder=f\"{output_folder}\",\n",
    "        config=config,\n",
    "    )"
   ]
  },
  {
   "cell_type": "code",
   "execution_count": 13,
   "id": "ebe979fd",
   "metadata": {},
   "outputs": [],
   "source": [
    "bbox_list = bbox_splitter.get_bbox_list()\n",
    "sh_requests_deforestation = [\n",
    "    get_request_by_subarea(bbox, NDVI, start_date, end_date)\n",
    "    for bbox in bbox_list\n",
    "]\n",
    "dl_requests = [request.download_list[0] for request in sh_requests_deforestation]\n",
    "\n",
    "# download data with multiple threads\n",
    "downloaded_data = SentinelHubDownloadClient(config=config).download(\n",
    "    dl_requests, max_threads=5\n",
    ")"
   ]
  },
  {
   "cell_type": "code",
   "execution_count": 14,
   "id": "4049f4ec",
   "metadata": {},
   "outputs": [],
   "source": [
    "import rasterio as rio"
   ]
  },
  {
   "cell_type": "code",
   "execution_count": 87,
   "id": "d7a4bb24",
   "metadata": {},
   "outputs": [],
   "source": [
    "image_path = \"results/9c7c8fad062a93139dd32cae7c9fd115/response.tiff\""
   ]
  },
  {
   "cell_type": "code",
   "execution_count": 114,
   "id": "3b562a3b",
   "metadata": {},
   "outputs": [],
   "source": [
    "tiffiles = []\n",
    "for folder, subfolder, files in os.walk(output_folder):\n",
    "    for file in files:\n",
    "        if file.lower().endswith((\".tif\",\".tiff\")):\n",
    "            tiffiles.append(os.path.join(folder, file))"
   ]
  },
  {
   "cell_type": "code",
   "execution_count": 115,
   "id": "d8e91b5f",
   "metadata": {},
   "outputs": [
    {
     "data": {
      "text/plain": [
       "['results\\\\mosaico.tif',\n",
       " 'results\\\\1660e055e6230a1b4f0235a5458abbed\\\\response.tiff',\n",
       " 'results\\\\19d850aedd1cefe1563a1761eda8f78b\\\\response.tiff',\n",
       " 'results\\\\88a349c5fd83ad6d3bd92123cc23dc44\\\\response.tiff',\n",
       " 'results\\\\9c7c8fad062a93139dd32cae7c9fd115\\\\response.tiff']"
      ]
     },
     "execution_count": 115,
     "metadata": {},
     "output_type": "execute_result"
    }
   ],
   "source": [
    "tiffiles"
   ]
  },
  {
   "cell_type": "code",
   "execution_count": 116,
   "id": "206c361d",
   "metadata": {},
   "outputs": [
    {
     "data": {
      "text/plain": [
       "'results'"
      ]
     },
     "execution_count": 116,
     "metadata": {},
     "output_type": "execute_result"
    }
   ],
   "source": [
    "output_folder"
   ]
  },
  {
   "cell_type": "code",
   "execution_count": null,
   "id": "3a5b6ff5",
   "metadata": {},
   "outputs": [
    {
     "ename": "CPLE_AppDefinedError",
     "evalue": "Deleting results\\mosaico.tif failed: Permission denied",
     "output_type": "error",
     "traceback": [
      "\u001b[1;31m---------------------------------------------------------------------------\u001b[0m",
      "\u001b[1;31mCPLE_AppDefinedError\u001b[0m                      Traceback (most recent call last)",
      "Cell \u001b[1;32mIn[117], line 19\u001b[0m\n\u001b[0;32m     10\u001b[0m out_meta\u001b[38;5;241m.\u001b[39mupdate({\n\u001b[0;32m     11\u001b[0m     \u001b[38;5;124m\"\u001b[39m\u001b[38;5;124mdriver\u001b[39m\u001b[38;5;124m\"\u001b[39m: \u001b[38;5;124m\"\u001b[39m\u001b[38;5;124mGTiff\u001b[39m\u001b[38;5;124m\"\u001b[39m,\n\u001b[0;32m     12\u001b[0m     \u001b[38;5;124m\"\u001b[39m\u001b[38;5;124mheight\u001b[39m\u001b[38;5;124m\"\u001b[39m: mosaic\u001b[38;5;241m.\u001b[39mshape[\u001b[38;5;241m1\u001b[39m],\n\u001b[0;32m     13\u001b[0m     \u001b[38;5;124m\"\u001b[39m\u001b[38;5;124mwidth\u001b[39m\u001b[38;5;124m\"\u001b[39m: mosaic\u001b[38;5;241m.\u001b[39mshape[\u001b[38;5;241m2\u001b[39m],\n\u001b[0;32m     14\u001b[0m     \u001b[38;5;124m\"\u001b[39m\u001b[38;5;124mtransform\u001b[39m\u001b[38;5;124m\"\u001b[39m: out_trans\n\u001b[0;32m     15\u001b[0m })\n\u001b[0;32m     17\u001b[0m \u001b[38;5;66;03m# Guardar mosaico a disco\u001b[39;00m\n\u001b[1;32m---> 19\u001b[0m \u001b[38;5;28;01mwith\u001b[39;00m \u001b[43mrio\u001b[49m\u001b[38;5;241;43m.\u001b[39;49m\u001b[43mopen\u001b[49m\u001b[43m(\u001b[49m\u001b[43mos\u001b[49m\u001b[38;5;241;43m.\u001b[39;49m\u001b[43mpath\u001b[49m\u001b[38;5;241;43m.\u001b[39;49m\u001b[43mjoin\u001b[49m\u001b[43m(\u001b[49m\u001b[43moutput_folder\u001b[49m\u001b[43m,\u001b[49m\u001b[38;5;124;43m\"\u001b[39;49m\u001b[38;5;124;43mmosaico.tif\u001b[39;49m\u001b[38;5;124;43m\"\u001b[39;49m\u001b[43m)\u001b[49m\u001b[43m,\u001b[49m\u001b[43m \u001b[49m\u001b[38;5;124;43m\"\u001b[39;49m\u001b[38;5;124;43mw\u001b[39;49m\u001b[38;5;124;43m\"\u001b[39;49m\u001b[43m,\u001b[49m\u001b[43m \u001b[49m\u001b[38;5;241;43m*\u001b[39;49m\u001b[38;5;241;43m*\u001b[39;49m\u001b[43mout_meta\u001b[49m\u001b[43m)\u001b[49m \u001b[38;5;28;01mas\u001b[39;00m dest:\n\u001b[0;32m     20\u001b[0m     dest\u001b[38;5;241m.\u001b[39mwrite(mosaic)\n",
      "File \u001b[1;32mc:\\Python\\Python311\\Lib\\site-packages\\rasterio\\env.py:451\u001b[0m, in \u001b[0;36mensure_env_with_credentials.<locals>.wrapper\u001b[1;34m(*args, **kwds)\u001b[0m\n\u001b[0;32m    448\u001b[0m     session \u001b[38;5;241m=\u001b[39m DummySession()\n\u001b[0;32m    450\u001b[0m \u001b[38;5;28;01mwith\u001b[39;00m env_ctor(session\u001b[38;5;241m=\u001b[39msession):\n\u001b[1;32m--> 451\u001b[0m     \u001b[38;5;28;01mreturn\u001b[39;00m \u001b[43mf\u001b[49m\u001b[43m(\u001b[49m\u001b[38;5;241;43m*\u001b[39;49m\u001b[43margs\u001b[49m\u001b[43m,\u001b[49m\u001b[43m \u001b[49m\u001b[38;5;241;43m*\u001b[39;49m\u001b[38;5;241;43m*\u001b[39;49m\u001b[43mkwds\u001b[49m\u001b[43m)\u001b[49m\n",
      "File \u001b[1;32mc:\\Python\\Python311\\Lib\\site-packages\\rasterio\\__init__.py:327\u001b[0m, in \u001b[0;36mopen\u001b[1;34m(fp, mode, driver, width, height, count, crs, transform, dtype, nodata, sharing, **kwargs)\u001b[0m\n\u001b[0;32m    325\u001b[0m writer \u001b[38;5;241m=\u001b[39m get_writer_for_driver(driver)\n\u001b[0;32m    326\u001b[0m \u001b[38;5;28;01mif\u001b[39;00m writer \u001b[38;5;129;01mis\u001b[39;00m \u001b[38;5;129;01mnot\u001b[39;00m \u001b[38;5;28;01mNone\u001b[39;00m:\n\u001b[1;32m--> 327\u001b[0m     dataset \u001b[38;5;241m=\u001b[39m \u001b[43mwriter\u001b[49m\u001b[43m(\u001b[49m\n\u001b[0;32m    328\u001b[0m \u001b[43m        \u001b[49m\u001b[43mpath\u001b[49m\u001b[43m,\u001b[49m\n\u001b[0;32m    329\u001b[0m \u001b[43m        \u001b[49m\u001b[43mmode\u001b[49m\u001b[43m,\u001b[49m\n\u001b[0;32m    330\u001b[0m \u001b[43m        \u001b[49m\u001b[43mdriver\u001b[49m\u001b[38;5;241;43m=\u001b[39;49m\u001b[43mdriver\u001b[49m\u001b[43m,\u001b[49m\n\u001b[0;32m    331\u001b[0m \u001b[43m        \u001b[49m\u001b[43mwidth\u001b[49m\u001b[38;5;241;43m=\u001b[39;49m\u001b[43mwidth\u001b[49m\u001b[43m,\u001b[49m\n\u001b[0;32m    332\u001b[0m \u001b[43m        \u001b[49m\u001b[43mheight\u001b[49m\u001b[38;5;241;43m=\u001b[39;49m\u001b[43mheight\u001b[49m\u001b[43m,\u001b[49m\n\u001b[0;32m    333\u001b[0m \u001b[43m        \u001b[49m\u001b[43mcount\u001b[49m\u001b[38;5;241;43m=\u001b[39;49m\u001b[43mcount\u001b[49m\u001b[43m,\u001b[49m\n\u001b[0;32m    334\u001b[0m \u001b[43m        \u001b[49m\u001b[43mcrs\u001b[49m\u001b[38;5;241;43m=\u001b[39;49m\u001b[43mcrs\u001b[49m\u001b[43m,\u001b[49m\n\u001b[0;32m    335\u001b[0m \u001b[43m        \u001b[49m\u001b[43mtransform\u001b[49m\u001b[38;5;241;43m=\u001b[39;49m\u001b[43mtransform\u001b[49m\u001b[43m,\u001b[49m\n\u001b[0;32m    336\u001b[0m \u001b[43m        \u001b[49m\u001b[43mdtype\u001b[49m\u001b[38;5;241;43m=\u001b[39;49m\u001b[43mdtype\u001b[49m\u001b[43m,\u001b[49m\n\u001b[0;32m    337\u001b[0m \u001b[43m        \u001b[49m\u001b[43mnodata\u001b[49m\u001b[38;5;241;43m=\u001b[39;49m\u001b[43mnodata\u001b[49m\u001b[43m,\u001b[49m\n\u001b[0;32m    338\u001b[0m \u001b[43m        \u001b[49m\u001b[43msharing\u001b[49m\u001b[38;5;241;43m=\u001b[39;49m\u001b[43msharing\u001b[49m\u001b[43m,\u001b[49m\n\u001b[0;32m    339\u001b[0m \u001b[43m        \u001b[49m\u001b[38;5;241;43m*\u001b[39;49m\u001b[38;5;241;43m*\u001b[39;49m\u001b[43mkwargs\u001b[49m\n\u001b[0;32m    340\u001b[0m \u001b[43m    \u001b[49m\u001b[43m)\u001b[49m\n\u001b[0;32m    341\u001b[0m \u001b[38;5;28;01melse\u001b[39;00m:\n\u001b[0;32m    342\u001b[0m     \u001b[38;5;28;01mraise\u001b[39;00m DriverCapabilityError(\n\u001b[0;32m    343\u001b[0m         \u001b[38;5;124m\"\u001b[39m\u001b[38;5;124mWriter does not exist for driver: \u001b[39m\u001b[38;5;132;01m%s\u001b[39;00m\u001b[38;5;124m\"\u001b[39m \u001b[38;5;241m%\u001b[39m \u001b[38;5;28mstr\u001b[39m(driver)\n\u001b[0;32m    344\u001b[0m     )\n",
      "File \u001b[1;32mrasterio\\\\_io.pyx:1464\u001b[0m, in \u001b[0;36mrasterio._io.DatasetWriterBase.__init__\u001b[1;34m()\u001b[0m\n",
      "File \u001b[1;32mrasterio\\\\_io.pyx:330\u001b[0m, in \u001b[0;36mrasterio._io._delete_dataset_if_exists\u001b[1;34m()\u001b[0m\n",
      "File \u001b[1;32mrasterio\\\\_err.pyx:195\u001b[0m, in \u001b[0;36mrasterio._err.exc_wrap_int\u001b[1;34m()\u001b[0m\n",
      "\u001b[1;31mCPLE_AppDefinedError\u001b[0m: Deleting results\\mosaico.tif failed: Permission denied"
     ]
    }
   ],
   "source": [
    "mosaicFiles =  [rio.open(file) for file in tiffiles]\n",
    "\n",
    "# Hacer el mosaico\n",
    "mosaic, out_trans = merge(mosaicFiles)\n",
    "\n",
    "# Copiar metadatos del primero\n",
    "out_meta = mosaicFiles[0].meta.copy()\n",
    "\n",
    "# Actualizar metadatos con nueva dimensión y transform\n",
    "out_meta.update({\n",
    "    \"driver\": \"GTiff\",\n",
    "    \"height\": mosaic.shape[1],\n",
    "    \"width\": mosaic.shape[2],\n",
    "    \"transform\": out_trans\n",
    "})\n",
    "\n",
    "# Guardar mosaico a disco\n",
    "out_fp = \"mosaico.tif\"\n",
    "with rio.open(os.path.join(output_folder), \"w\", **out_meta) as dest:\n",
    "    dest.write(mosaic)"
   ]
  },
  {
   "cell_type": "code",
   "execution_count": null,
   "id": "521bfd08",
   "metadata": {},
   "outputs": [],
   "source": [
    "with rio.open(os.path.join(output_folder,\"mosaico.tif\")) as src:\n",
    "    raster_data = src.read(1)  # primera banda\n",
    "    transform = src.transform\n",
    "    crs = src.crs\n",
    "    width, height = src.width, src.height\n",
    "    bounds = src.bounds"
   ]
  },
  {
   "cell_type": "code",
   "execution_count": null,
   "id": "fabe7656",
   "metadata": {},
   "outputs": [],
   "source": [
    "indice = \"NDVI\""
   ]
  },
  {
   "cell_type": "code",
   "execution_count": null,
   "id": "0585ea81",
   "metadata": {},
   "outputs": [],
   "source": [
    "combined_state = {\n",
    "    \"ndvi\": {\n",
    "        1: [\"Ausencia de vegetación o cobertura vegetal muy escasa\", \"< 0\"],\n",
    "        2: [\"Vegetación escasa o estresada\", \"0 - 0.2\"],\n",
    "        3: [\"Vegetación en condiciones moderadas\", \"0.2 - 0.5\"],\n",
    "        4: [\"Vegetación densa y saludable\", \"0.5 - 0.8\"],\n",
    "        5: [\"Vegetación extremadamente densa y saludable\", \"0.8 - 1\"],\n",
    "    },\n",
    "    \"gndvi\": {\n",
    "        1: [\"Áreas con baja o nula vegetación, suelos desnudos, agua o superficies construidas\", \"< 0\"],\n",
    "        2: [\"Vegetación en condiciones saludables, pero no particularmente densa\", \"0 - 0.5\"],\n",
    "        3: [\"Vegetación densa y saludable\", \"0.5 - 0.8\"],\n",
    "        4: [\"Vegetación extremadamente densa y saludable\", \"0.8 - 1\"]\n",
    "    },\n",
    "    \"evi\": {\n",
    "        1: [\"Zonas con muy poca o ninguna vegetacion\", \"< 0\"],\n",
    "        2: [\"Presencia creciente de vegetacion\", \"0 - 0.5\"],\n",
    "        3: [\"Vegetacion mas densa y saludable que las areas verdes\", \"0.5 - 0.8\"],\n",
    "        4: [\"Vegetacion con la maxima densidad y salud de la vegetación\", \"0.8 - 1\"],\n",
    "    },\n",
    "    \"savi\": {\n",
    "        1: [\"Muy baja vegetacion o suelo expuesto\", \"< 0\"],\n",
    "        2: [\"Vegetación escasa\", \"0 - 0.5\"],\n",
    "        3: [\"Vegetación moderada\", \"0.5 - 0.8\"],\n",
    "        4: [\"Vegetación extremadamente densa\", \"0.8 - 1\"]\n",
    "    },\n",
    "    \"ndci\": {\n",
    "        1: [\"Vegetacion con baja concentacion de clorofila\", \"< 0\"],\n",
    "        2: [\"Vegetación con concentracion de clorofila moderada\", \"0 - 0.2\"],\n",
    "        3: [\"Vegetacion con alta concentacion de clorofila\", \"0.2 - 1\"],\n",
    "    },\n",
    "    \"ndmi\": {\n",
    "        1: [\"Baja humedad en la vegetación\", \"< 0\"],\n",
    "        2: [\"Moderada humedad en la vegetacion\", \"0 - 0.5\"],\n",
    "        3: [\"Alta humedad en la vegetación\", \"0.5 - 0.8\"],\n",
    "        4: [\"Muy alta humedad en la vegetación\", \"0.8 - 1\"],\n",
    "    },\n",
    "    \"ndsi\": {\n",
    "        1: [\"Zonas Ausencia de Nieve\", \"< 0\"],\n",
    "        2: [\"Zonas con poca nieve\", \"0 - 0.4\"],\n",
    "        3: [\"Zonas con nieve densa\", \"0.4 - 1\"]\n",
    "    },\n",
    "    \"ndwi\": {\n",
    "        1: [\"Zonas sin presencia de agua\", \"< 0\"],\n",
    "        2: [\"Zonas inundadas\", \"0 - 1\"],\n",
    "    },\n",
    "    \"ndbi\": {\n",
    "        1: [\"Baja presencia de superficies construidas o alta presencia de vegetación\", \"< -0.05\"],\n",
    "        2: [\"Zonas construidas con vegetación\", \"-0.05 - 0.05\"],\n",
    "        3: [\"Zonas con alta construccion\", \"0.05 - 1\"],\n",
    "    },\n",
    "    \"nbr\": {\n",
    "        1: [\"Zonas no quemadas\", \"< 0.1\"],\n",
    "        2: [\"Zonas quemadas con gravedad moderada baja\", \"0.1 - 0.44\"],\n",
    "        3: [\"Zonas quemadas con gravedad moderada alta\", \"0.44 - 0.66\"],\n",
    "        4: [\"Zonas gravemente quemadas\", \"0.66 - 1\"]\n",
    "    }\n",
    "}\n",
    "\n",
    "def getClassification(index: str):\n",
    "    \"\"\"\n",
    "    Devuelve la clasificación de estados para el índice solicitado.\n",
    "    \"\"\"\n",
    "    return combined_state.get(index.lower(), combined_state[\"nbr\"])"
   ]
  },
  {
   "cell_type": "code",
   "execution_count": null,
   "id": "bca55c6f",
   "metadata": {},
   "outputs": [],
   "source": [
    "reclasification_methods = {\n",
    "        \"ndvi\": lambda x: np.where(np.isnan(x), np.nan,\n",
    "                                   np.where(x < 0, 1,\n",
    "                                            np.where(x <= 0.2, 2,\n",
    "                                                     np.where(x <= 0.5, 3,\n",
    "                                                              np.where(x <= 0.8, 4, 5))))),\n",
    "        \"gndvi\": lambda x: np.where(np.isnan(x), np.nan,\n",
    "                                    np.where(x < 0, 1,\n",
    "                                             np.where(x <= 0.5, 2,\n",
    "                                                      np.where(x <= 0.8, 3, 4)))),\n",
    "        \"evi\": lambda x: np.where(np.isnan(x), np.nan,\n",
    "                                  np.where(x < 0, 1,\n",
    "                                           np.where(x <= 0.5, 2,\n",
    "                                                    np.where(x <= 0.8, 3, 4)))),\n",
    "        \"savi\": lambda x: np.where(np.isnan(x), np.nan,\n",
    "                                   np.where(x < 0, 1,\n",
    "                                            np.where(x <= 0.5, 2,\n",
    "                                                     np.where(x <= 0.8, 3, 4)))),\n",
    "        \"ndci\": lambda x: np.where(np.isnan(x), np.nan,\n",
    "                                   np.where(x < 0, 1,\n",
    "                                            np.where(x <= 0.2, 2, 3))),\n",
    "        \"ndmi\": lambda x: np.where(np.isnan(x), np.nan,\n",
    "                                   np.where(x < 0, 1,\n",
    "                                            np.where(x <= 0.5, 2,\n",
    "                                                     np.where(x <= 0.8, 3, 4)))),\n",
    "        \"ndsi\": lambda x: np.where(np.isnan(x), np.nan,\n",
    "                                   np.where(x < 0, 1,\n",
    "                                            np.where(x <= 0.45, 2, 3))),\n",
    "        \"ndwi\": lambda x: np.where(np.isnan(x), np.nan,\n",
    "                                   np.where(x < 0, 1, 2)),\n",
    "        \"ndbi\": lambda x: np.where(np.isnan(x), np.nan,\n",
    "                                   np.where(x <= -0.05, 1,\n",
    "                                            np.where(x <= 0.05, 2, 3))),\n",
    "        \"nbr\": lambda x: np.where(np.isnan(x), np.nan,\n",
    "                                  np.where(x <= 0.1, 1,\n",
    "                                           np.where(x <= 0.44, 2,\n",
    "                                                    np.where(x <= 0.66, 3, 4)))),\n",
    "    }"
   ]
  },
  {
   "cell_type": "code",
   "execution_count": null,
   "id": "feb2ccca",
   "metadata": {},
   "outputs": [],
   "source": [
    "method = reclasification_methods[indice.lower()]\n",
    "reclasificado = method(raster_data)"
   ]
  },
  {
   "cell_type": "code",
   "execution_count": null,
   "id": "c0656993",
   "metadata": {},
   "outputs": [],
   "source": [
    "unique_vals = np.unique(reclasificado[~np.isnan(reclasificado)])\n",
    "IndexGroups = {int(val): [] for val in unique_vals}"
   ]
  },
  {
   "cell_type": "code",
   "execution_count": null,
   "id": "9f7a33ec",
   "metadata": {},
   "outputs": [],
   "source": [
    "for val in unique_vals:\n",
    "        vals = raster_data[reclasificado == val]\n",
    "        IndexGroups[int(val)] = vals.tolist()"
   ]
  },
  {
   "cell_type": "code",
   "execution_count": null,
   "id": "7cd8c581",
   "metadata": {},
   "outputs": [],
   "source": [
    "mask = ~np.isnan(reclasificado)"
   ]
  },
  {
   "cell_type": "code",
   "execution_count": null,
   "id": "1dfc6929",
   "metadata": {},
   "outputs": [],
   "source": [
    "polygons = []\n",
    "for geom, value in features.shapes(reclasificado.astype(np.int16),\n",
    "                                mask=mask,\n",
    "                                transform=transform):\n",
    "    if value == 0:\n",
    "        continue\n",
    "    polygons.append({\"geometry\": shape(geom), \"value\": int(value)})\n",
    "\n",
    "gdf = gpd.GeoDataFrame(polygons, crs=crs)"
   ]
  },
  {
   "cell_type": "code",
   "execution_count": null,
   "id": "d550614b",
   "metadata": {},
   "outputs": [],
   "source": [
    "dissolved = gdf.dissolve(by=\"value\", as_index=False)"
   ]
  },
  {
   "cell_type": "code",
   "execution_count": null,
   "id": "a62c8f30",
   "metadata": {},
   "outputs": [
    {
     "ename": "NameError",
     "evalue": "name 'stateClasification' is not defined",
     "output_type": "error",
     "traceback": [
      "\u001b[1;31m---------------------------------------------------------------------------\u001b[0m",
      "\u001b[1;31mNameError\u001b[0m                                 Traceback (most recent call last)",
      "Cell \u001b[1;32mIn[1], line 1\u001b[0m\n\u001b[1;32m----> 1\u001b[0m \u001b[43mstateClasification\u001b[49m\u001b[38;5;241m.\u001b[39mget(\u001b[38;5;28mint\u001b[39m(v), [\u001b[38;5;124m\"\u001b[39m\u001b[38;5;124m\"\u001b[39m, \u001b[38;5;124m\"\u001b[39m\u001b[38;5;124mSin clasificacion\u001b[39m\u001b[38;5;124m\"\u001b[39m])[\u001b[38;5;241m1\u001b[39m]\n",
      "\u001b[1;31mNameError\u001b[0m: name 'stateClasification' is not defined"
     ]
    }
   ],
   "source": []
  },
  {
   "cell_type": "code",
   "execution_count": 3,
   "id": "16a6e963",
   "metadata": {},
   "outputs": [
    {
     "ename": "NameError",
     "evalue": "name 'getClassification' is not defined",
     "output_type": "error",
     "traceback": [
      "\u001b[1;31m---------------------------------------------------------------------------\u001b[0m",
      "\u001b[1;31mNameError\u001b[0m                                 Traceback (most recent call last)",
      "Cell \u001b[1;32mIn[3], line 1\u001b[0m\n\u001b[1;32m----> 1\u001b[0m stateClasification \u001b[38;5;241m=\u001b[39m \u001b[43mgetClassification\u001b[49m(indice)\n",
      "\u001b[1;31mNameError\u001b[0m: name 'getClassification' is not defined"
     ]
    }
   ],
   "source": [
    "stateClasification = getClassification(indice)"
   ]
  },
  {
   "cell_type": "code",
   "execution_count": null,
   "id": "0db5dfc1",
   "metadata": {},
   "outputs": [],
   "source": [
    "\n",
    "\n",
    "dissolved[\"IndexState\"] = dissolved[\"value\"].apply(\n",
    "    lambda v: stateClasification.get(int(v), [\"Sin clasificacion\"])[0]\n",
    ")\n",
    "dissolved[\"IndexRange\"] = dissolved[\"value\"].apply(\n",
    "    lambda v: stateClasification.get(int(v), [\"\", \"Sin clasificacion\"])[1]\n",
    ")\n",
    "dissolved[\"IndexRangeMean\"] = dissolved[\"value\"].apply(\n",
    "    lambda v: round(sum(IndexGroups.get(int(v), [])) / len(IndexGroups.get(int(v), [])), 4)\n",
    "    if IndexGroups.get(int(v)) else None\n",
    ")"
   ]
  },
  {
   "cell_type": "code",
   "execution_count": 2,
   "id": "dda86bff",
   "metadata": {},
   "outputs": [
    {
     "ename": "NameError",
     "evalue": "name 'stateClasification' is not defined",
     "output_type": "error",
     "traceback": [
      "\u001b[1;31m---------------------------------------------------------------------------\u001b[0m",
      "\u001b[1;31mNameError\u001b[0m                                 Traceback (most recent call last)",
      "Cell \u001b[1;32mIn[2], line 1\u001b[0m\n\u001b[1;32m----> 1\u001b[0m \u001b[43mstateClasification\u001b[49m\u001b[38;5;241m.\u001b[39mget(\u001b[38;5;28mint\u001b[39m(v), [\u001b[38;5;124m\"\u001b[39m\u001b[38;5;124m\"\u001b[39m, \u001b[38;5;124m\"\u001b[39m\u001b[38;5;124mSin clasificacion\u001b[39m\u001b[38;5;124m\"\u001b[39m])[\u001b[38;5;241m1\u001b[39m]\n",
      "\u001b[1;31mNameError\u001b[0m: name 'stateClasification' is not defined"
     ]
    }
   ],
   "source": [
    "stateClasification.get(int(v), [\"\", \"Sin clasificacion\"])[1]"
   ]
  },
  {
   "cell_type": "code",
   "execution_count": null,
   "id": "5760661b",
   "metadata": {},
   "outputs": [],
   "source": [
    "dissolved = dissolved.to_crs(epsg=4326)"
   ]
  },
  {
   "cell_type": "code",
   "execution_count": null,
   "id": "13693a11",
   "metadata": {},
   "outputs": [],
   "source": [
    "dissolved.to_file(os.path.join(output_folder,\"CLASIFICADO.geojson\"), driver=\"GeoJSON\")"
   ]
  },
  {
   "cell_type": "code",
   "execution_count": null,
   "id": "ab6b67af",
   "metadata": {},
   "outputs": [],
   "source": []
  }
 ],
 "metadata": {
  "kernelspec": {
   "display_name": "Python 3",
   "language": "python",
   "name": "python3"
  },
  "language_info": {
   "codemirror_mode": {
    "name": "ipython",
    "version": 3
   },
   "file_extension": ".py",
   "mimetype": "text/x-python",
   "name": "python",
   "nbconvert_exporter": "python",
   "pygments_lexer": "ipython3",
   "version": "3.11.9"
  }
 },
 "nbformat": 4,
 "nbformat_minor": 5
}
